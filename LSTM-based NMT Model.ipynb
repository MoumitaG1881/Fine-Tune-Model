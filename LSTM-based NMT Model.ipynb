{
 "cells": [
  {
   "cell_type": "markdown",
   "id": "2d6a26f6-d6da-43fc-9a70-6837dfcdec76",
   "metadata": {},
   "source": [
    "## Fine-Tune a Model: Description: Load a pre-trained LSTM-based NMT model and use it to translate a sentence from one language to another. Description: GUI is not necessary. "
   ]
  },
  {
   "cell_type": "markdown",
   "id": "abae6152-447b-4d2a-9048-1e1ea9d1ca31",
   "metadata": {},
   "source": [
    "Brief Introduction: Neural machine translation (NMT) uses Deep learning (DL) to translate text from one language to another. It is a powerful state-of-art language translation. In this task, a LSTM-based NMT model is built to translate the text from one to another language. Data Source: 'Tab-delimited Bilingual Sentence Pairs' (English to French) from ManyThings.org"
   ]
  },
  {
   "cell_type": "markdown",
   "id": "dfde32b6-1180-433d-ab86-34242e936cb4",
   "metadata": {},
   "source": [
    "## Load Data"
   ]
  },
  {
   "cell_type": "code",
   "execution_count": 1,
   "id": "64bee482-0458-4c88-8337-f73b5534b83a",
   "metadata": {},
   "outputs": [
    {
     "data": {
      "text/html": [
       "<div>\n",
       "<style scoped>\n",
       "    .dataframe tbody tr th:only-of-type {\n",
       "        vertical-align: middle;\n",
       "    }\n",
       "\n",
       "    .dataframe tbody tr th {\n",
       "        vertical-align: top;\n",
       "    }\n",
       "\n",
       "    .dataframe thead th {\n",
       "        text-align: right;\n",
       "    }\n",
       "</style>\n",
       "<table border=\"1\" class=\"dataframe\">\n",
       "  <thead>\n",
       "    <tr style=\"text-align: right;\">\n",
       "      <th></th>\n",
       "      <th>en</th>\n",
       "      <th>fr</th>\n",
       "    </tr>\n",
       "  </thead>\n",
       "  <tbody>\n",
       "    <tr>\n",
       "      <th>0</th>\n",
       "      <td>You're very clever.</td>\n",
       "      <td>Vous êtes fort ingénieuse.</td>\n",
       "    </tr>\n",
       "    <tr>\n",
       "      <th>1</th>\n",
       "      <td>Are there kids?</td>\n",
       "      <td>Y a-t-il des enfants ?</td>\n",
       "    </tr>\n",
       "    <tr>\n",
       "      <th>2</th>\n",
       "      <td>Come in.</td>\n",
       "      <td>Entrez !</td>\n",
       "    </tr>\n",
       "    <tr>\n",
       "      <th>3</th>\n",
       "      <td>Where's Boston?</td>\n",
       "      <td>Où est Boston ?</td>\n",
       "    </tr>\n",
       "    <tr>\n",
       "      <th>4</th>\n",
       "      <td>You see what I mean?</td>\n",
       "      <td>Vous voyez ce que je veux dire ?</td>\n",
       "    </tr>\n",
       "  </tbody>\n",
       "</table>\n",
       "</div>"
      ],
      "text/plain": [
       "                     en                                fr\n",
       "0   You're very clever.        Vous êtes fort ingénieuse.\n",
       "1       Are there kids?            Y a-t-il des enfants ?\n",
       "2              Come in.                          Entrez !\n",
       "3       Where's Boston?                   Où est Boston ?\n",
       "4  You see what I mean?  Vous voyez ce que je veux dire ?"
      ]
     },
     "execution_count": 1,
     "metadata": {},
     "output_type": "execute_result"
    }
   ],
   "source": [
    "import pandas as pd\n",
    "\n",
    "df = pd.read_csv(r\"C:\\Users\\Dell\\Desktop\\NULL_CLASS\\Internship\\Q2\\fra-eng\\en-fr.txt\", names=['en', 'fr', 'attr'], usecols=['en', 'fr'], sep='\\t')\n",
    "df = df.sample(frac=1, random_state=42)\n",
    "df = df.reset_index(drop=True)\n",
    "df.head()"
   ]
  },
  {
   "cell_type": "markdown",
   "id": "2a69e1ca-824a-4654-ac00-10694ab44341",
   "metadata": {},
   "source": [
    "Note: Above-mentioned dataset (in Data Source) is loaded into a Pandas dataframe. Rows have been reindexed."
   ]
  },
  {
   "cell_type": "markdown",
   "id": "45ba5d4d-9f83-4401-af77-4d729b72c766",
   "metadata": {},
   "source": [
    "## Data Preprocessing\n",
    "Process: By converting characters to lowercase, removing punctuation marks, and replacing unicode characters with their ASCII equivalents:"
   ]
  },
  {
   "cell_type": "code",
   "execution_count": 3,
   "id": "da5ebef1-59a8-45f7-bedd-865b991427b1",
   "metadata": {},
   "outputs": [
    {
     "data": {
      "text/html": [
       "<div>\n",
       "<style scoped>\n",
       "    .dataframe tbody tr th:only-of-type {\n",
       "        vertical-align: middle;\n",
       "    }\n",
       "\n",
       "    .dataframe tbody tr th {\n",
       "        vertical-align: top;\n",
       "    }\n",
       "\n",
       "    .dataframe thead th {\n",
       "        text-align: right;\n",
       "    }\n",
       "</style>\n",
       "<table border=\"1\" class=\"dataframe\">\n",
       "  <thead>\n",
       "    <tr style=\"text-align: right;\">\n",
       "      <th></th>\n",
       "      <th>en</th>\n",
       "      <th>fr</th>\n",
       "    </tr>\n",
       "  </thead>\n",
       "  <tbody>\n",
       "    <tr>\n",
       "      <th>0</th>\n",
       "      <td>youre very clever</td>\n",
       "      <td>vous etes fort ingenieuse</td>\n",
       "    </tr>\n",
       "    <tr>\n",
       "      <th>1</th>\n",
       "      <td>are there kids</td>\n",
       "      <td>y atil des enfants</td>\n",
       "    </tr>\n",
       "    <tr>\n",
       "      <th>2</th>\n",
       "      <td>come in</td>\n",
       "      <td>entrez</td>\n",
       "    </tr>\n",
       "    <tr>\n",
       "      <th>3</th>\n",
       "      <td>wheres boston</td>\n",
       "      <td>ou est boston</td>\n",
       "    </tr>\n",
       "    <tr>\n",
       "      <th>4</th>\n",
       "      <td>you see what i mean</td>\n",
       "      <td>vous voyez ce que je veux dire</td>\n",
       "    </tr>\n",
       "  </tbody>\n",
       "</table>\n",
       "</div>"
      ],
      "text/plain": [
       "                    en                               fr\n",
       "0    youre very clever        vous etes fort ingenieuse\n",
       "1       are there kids              y atil des enfants \n",
       "2              come in                           entrez\n",
       "3        wheres boston                    ou est boston\n",
       "4  you see what i mean  vous voyez ce que je veux dire "
      ]
     },
     "execution_count": 3,
     "metadata": {},
     "output_type": "execute_result"
    }
   ],
   "source": [
    "import re\n",
    "from unicodedata import normalize\n",
    "\n",
    "def clean_text(text):\n",
    "    text = normalize('NFD', text.lower())\n",
    "    text = re.sub('[^A-Za-z ]+', '', text)\n",
    "    return text\n",
    "\n",
    "df['en'] = df['en'].apply(lambda row: clean_text(row))\n",
    "df['fr'] = df['fr'].apply(lambda row: clean_text(row))\n",
    "df.head()"
   ]
  },
  {
   "cell_type": "markdown",
   "id": "a8efa487-f561-49a9-bd71-10d4ffb1fcd1",
   "metadata": {},
   "source": [
    "## Evaluating the maximum length of both English and French phrases. \n",
    "Significance: This step will determine the lengths of the sequences that will be the input to and output from the model."
   ]
  },
  {
   "cell_type": "code",
   "execution_count": 5,
   "id": "c3cbf887-ecfd-46d2-91c8-f198c4af9a71",
   "metadata": {},
   "outputs": [
    {
     "name": "stdout",
     "output_type": "stream",
     "text": [
      "Max phrase length (English): 7\n",
      "Max phrase length (French): 14\n"
     ]
    }
   ],
   "source": [
    "en = df['en']\n",
    "fr = df['fr']\n",
    "\n",
    "en_max_len = max(len(line.split()) for line in en)\n",
    "fr_max_len = max(len(line.split()) for line in fr)\n",
    "\n",
    "print(f'Max phrase length (English): {en_max_len}')\n",
    "print(f'Max phrase length (French): {fr_max_len}')"
   ]
  },
  {
   "cell_type": "markdown",
   "id": "53db1329-6a4e-4ea8-a9bb-fd1d2a10034d",
   "metadata": {},
   "source": [
    "## Fitting Tokenizer to the phrases and generating padded sequences"
   ]
  },
  {
   "cell_type": "code",
   "execution_count": 7,
   "id": "e4e25526-c7bd-47b5-8574-114e3a83e409",
   "metadata": {},
   "outputs": [],
   "source": [
    "from tensorflow.keras.preprocessing.text import Tokenizer\n",
    "from tensorflow.keras.preprocessing.sequence import pad_sequences\n",
    "\n",
    "en_tokenizer = Tokenizer()\n",
    "en_tokenizer.fit_on_texts(en)\n",
    "en_sequences = en_tokenizer.texts_to_sequences(en)\n",
    "en_x = pad_sequences(en_sequences, maxlen=en_max_len, padding='post')\n",
    "\n",
    "fr_tokenizer = Tokenizer()\n",
    "fr_tokenizer.fit_on_texts(fr)\n",
    "fr_sequences = fr_tokenizer.texts_to_sequences(fr)\n",
    "fr_y = pad_sequences(fr_sequences, maxlen=fr_max_len, padding='post')"
   ]
  },
  {
   "cell_type": "markdown",
   "id": "2a3054d1-eb5a-40d5-abc8-1ae0f126fb31",
   "metadata": {},
   "source": [
    "## Determining vocabulary length"
   ]
  },
  {
   "cell_type": "code",
   "execution_count": 9,
   "id": "42c9c965-223f-49b9-a6f0-11f339bdb7d8",
   "metadata": {},
   "outputs": [
    {
     "name": "stdout",
     "output_type": "stream",
     "text": [
      "Vocabulary size (English): 6033\n",
      "Vocabulary size (French): 12195\n"
     ]
    }
   ],
   "source": [
    "en_vocab_size = len(en_tokenizer.word_index) + 1\n",
    "fr_vocab_size = len(fr_tokenizer.word_index) + 1\n",
    "\n",
    "print(f'Vocabulary size (English): {en_vocab_size}')\n",
    "print(f'Vocabulary size (French): {fr_vocab_size}')"
   ]
  },
  {
   "cell_type": "markdown",
   "id": "66949899-142c-495e-ac67-78452e0ff4c4",
   "metadata": {},
   "source": [
    "## Adding layers\n",
    "Brief description:\n",
    "* Embedding layer followed by an LSTM layer: To encode English phrases input to the model.\n",
    "* RepeatVector layer: To reshape the output from the first LSTM layer that acts as an input to the second LSTM layer.\n",
    "* Second LSTM layer: To decode the phrases into their French equivalents (as the task is to translate English to French). \n",
    "* Softmax classification layer: It is the final layer that gives probabilities for each word in the French vocabulary. \n",
    "* TimeDistributed wrapper: To ensures that the built model provides a set of probabilities for each token (word) in the output.\n",
    "\n",
    "Note: Adam optimizer is used in this task."
   ]
  },
  {
   "cell_type": "code",
   "execution_count": 11,
   "id": "53796ada-c43e-4f5b-a390-3654d24fd4ef",
   "metadata": {},
   "outputs": [
    {
     "name": "stderr",
     "output_type": "stream",
     "text": [
      "C:\\Users\\Dell\\anaconda3\\Lib\\site-packages\\keras\\src\\layers\\core\\embedding.py:93: UserWarning: Do not pass an `input_shape`/`input_dim` argument to a layer. When using Sequential models, prefer using an `Input(shape)` object as the first layer in the model instead.\n",
      "  super().__init__(**kwargs)\n"
     ]
    },
    {
     "data": {
      "text/html": [
       "<pre style=\"white-space:pre;overflow-x:auto;line-height:normal;font-family:Menlo,'DejaVu Sans Mono',consolas,'Courier New',monospace\"><span style=\"font-weight: bold\">Model: \"sequential\"</span>\n",
       "</pre>\n"
      ],
      "text/plain": [
       "\u001b[1mModel: \"sequential\"\u001b[0m\n"
      ]
     },
     "metadata": {},
     "output_type": "display_data"
    },
    {
     "data": {
      "text/html": [
       "<pre style=\"white-space:pre;overflow-x:auto;line-height:normal;font-family:Menlo,'DejaVu Sans Mono',consolas,'Courier New',monospace\">┏━━━━━━━━━━━━━━━━━━━━━━━━━━━━━━━━━━━━━━━━━━━━┳━━━━━━━━━━━━━━━━━━━━━━━━━━━━━━━━━┳━━━━━━━━━━━━━━━━━━━┓\n",
       "┃<span style=\"font-weight: bold\"> Layer (type)                               </span>┃<span style=\"font-weight: bold\"> Output Shape                    </span>┃<span style=\"font-weight: bold\">           Param # </span>┃\n",
       "┡━━━━━━━━━━━━━━━━━━━━━━━━━━━━━━━━━━━━━━━━━━━━╇━━━━━━━━━━━━━━━━━━━━━━━━━━━━━━━━━╇━━━━━━━━━━━━━━━━━━━┩\n",
       "│ embedding (<span style=\"color: #0087ff; text-decoration-color: #0087ff\">Embedding</span>)                      │ (<span style=\"color: #00d7ff; text-decoration-color: #00d7ff\">None</span>, <span style=\"color: #00af00; text-decoration-color: #00af00\">7</span>, <span style=\"color: #00af00; text-decoration-color: #00af00\">256</span>)                  │         <span style=\"color: #00af00; text-decoration-color: #00af00\">1,544,448</span> │\n",
       "├────────────────────────────────────────────┼─────────────────────────────────┼───────────────────┤\n",
       "│ lstm (<span style=\"color: #0087ff; text-decoration-color: #0087ff\">LSTM</span>)                                │ (<span style=\"color: #00d7ff; text-decoration-color: #00d7ff\">None</span>, <span style=\"color: #00af00; text-decoration-color: #00af00\">256</span>)                     │           <span style=\"color: #00af00; text-decoration-color: #00af00\">525,312</span> │\n",
       "├────────────────────────────────────────────┼─────────────────────────────────┼───────────────────┤\n",
       "│ repeat_vector (<span style=\"color: #0087ff; text-decoration-color: #0087ff\">RepeatVector</span>)               │ (<span style=\"color: #00d7ff; text-decoration-color: #00d7ff\">None</span>, <span style=\"color: #00af00; text-decoration-color: #00af00\">14</span>, <span style=\"color: #00af00; text-decoration-color: #00af00\">256</span>)                 │                 <span style=\"color: #00af00; text-decoration-color: #00af00\">0</span> │\n",
       "├────────────────────────────────────────────┼─────────────────────────────────┼───────────────────┤\n",
       "│ lstm_1 (<span style=\"color: #0087ff; text-decoration-color: #0087ff\">LSTM</span>)                              │ (<span style=\"color: #00d7ff; text-decoration-color: #00d7ff\">None</span>, <span style=\"color: #00af00; text-decoration-color: #00af00\">14</span>, <span style=\"color: #00af00; text-decoration-color: #00af00\">256</span>)                 │           <span style=\"color: #00af00; text-decoration-color: #00af00\">525,312</span> │\n",
       "├────────────────────────────────────────────┼─────────────────────────────────┼───────────────────┤\n",
       "│ dropout (<span style=\"color: #0087ff; text-decoration-color: #0087ff\">Dropout</span>)                          │ (<span style=\"color: #00d7ff; text-decoration-color: #00d7ff\">None</span>, <span style=\"color: #00af00; text-decoration-color: #00af00\">14</span>, <span style=\"color: #00af00; text-decoration-color: #00af00\">256</span>)                 │                 <span style=\"color: #00af00; text-decoration-color: #00af00\">0</span> │\n",
       "├────────────────────────────────────────────┼─────────────────────────────────┼───────────────────┤\n",
       "│ time_distributed (<span style=\"color: #0087ff; text-decoration-color: #0087ff\">TimeDistributed</span>)         │ (<span style=\"color: #00d7ff; text-decoration-color: #00d7ff\">None</span>, <span style=\"color: #00af00; text-decoration-color: #00af00\">14</span>, <span style=\"color: #00af00; text-decoration-color: #00af00\">12195</span>)               │         <span style=\"color: #00af00; text-decoration-color: #00af00\">3,134,115</span> │\n",
       "└────────────────────────────────────────────┴─────────────────────────────────┴───────────────────┘\n",
       "</pre>\n"
      ],
      "text/plain": [
       "┏━━━━━━━━━━━━━━━━━━━━━━━━━━━━━━━━━━━━━━━━━━━━┳━━━━━━━━━━━━━━━━━━━━━━━━━━━━━━━━━┳━━━━━━━━━━━━━━━━━━━┓\n",
       "┃\u001b[1m \u001b[0m\u001b[1mLayer (type)                              \u001b[0m\u001b[1m \u001b[0m┃\u001b[1m \u001b[0m\u001b[1mOutput Shape                   \u001b[0m\u001b[1m \u001b[0m┃\u001b[1m \u001b[0m\u001b[1m          Param #\u001b[0m\u001b[1m \u001b[0m┃\n",
       "┡━━━━━━━━━━━━━━━━━━━━━━━━━━━━━━━━━━━━━━━━━━━━╇━━━━━━━━━━━━━━━━━━━━━━━━━━━━━━━━━╇━━━━━━━━━━━━━━━━━━━┩\n",
       "│ embedding (\u001b[38;5;33mEmbedding\u001b[0m)                      │ (\u001b[38;5;45mNone\u001b[0m, \u001b[38;5;34m7\u001b[0m, \u001b[38;5;34m256\u001b[0m)                  │         \u001b[38;5;34m1,544,448\u001b[0m │\n",
       "├────────────────────────────────────────────┼─────────────────────────────────┼───────────────────┤\n",
       "│ lstm (\u001b[38;5;33mLSTM\u001b[0m)                                │ (\u001b[38;5;45mNone\u001b[0m, \u001b[38;5;34m256\u001b[0m)                     │           \u001b[38;5;34m525,312\u001b[0m │\n",
       "├────────────────────────────────────────────┼─────────────────────────────────┼───────────────────┤\n",
       "│ repeat_vector (\u001b[38;5;33mRepeatVector\u001b[0m)               │ (\u001b[38;5;45mNone\u001b[0m, \u001b[38;5;34m14\u001b[0m, \u001b[38;5;34m256\u001b[0m)                 │                 \u001b[38;5;34m0\u001b[0m │\n",
       "├────────────────────────────────────────────┼─────────────────────────────────┼───────────────────┤\n",
       "│ lstm_1 (\u001b[38;5;33mLSTM\u001b[0m)                              │ (\u001b[38;5;45mNone\u001b[0m, \u001b[38;5;34m14\u001b[0m, \u001b[38;5;34m256\u001b[0m)                 │           \u001b[38;5;34m525,312\u001b[0m │\n",
       "├────────────────────────────────────────────┼─────────────────────────────────┼───────────────────┤\n",
       "│ dropout (\u001b[38;5;33mDropout\u001b[0m)                          │ (\u001b[38;5;45mNone\u001b[0m, \u001b[38;5;34m14\u001b[0m, \u001b[38;5;34m256\u001b[0m)                 │                 \u001b[38;5;34m0\u001b[0m │\n",
       "├────────────────────────────────────────────┼─────────────────────────────────┼───────────────────┤\n",
       "│ time_distributed (\u001b[38;5;33mTimeDistributed\u001b[0m)         │ (\u001b[38;5;45mNone\u001b[0m, \u001b[38;5;34m14\u001b[0m, \u001b[38;5;34m12195\u001b[0m)               │         \u001b[38;5;34m3,134,115\u001b[0m │\n",
       "└────────────────────────────────────────────┴─────────────────────────────────┴───────────────────┘\n"
      ]
     },
     "metadata": {},
     "output_type": "display_data"
    },
    {
     "data": {
      "text/html": [
       "<pre style=\"white-space:pre;overflow-x:auto;line-height:normal;font-family:Menlo,'DejaVu Sans Mono',consolas,'Courier New',monospace\"><span style=\"font-weight: bold\"> Total params: </span><span style=\"color: #00af00; text-decoration-color: #00af00\">5,729,187</span> (21.86 MB)\n",
       "</pre>\n"
      ],
      "text/plain": [
       "\u001b[1m Total params: \u001b[0m\u001b[38;5;34m5,729,187\u001b[0m (21.86 MB)\n"
      ]
     },
     "metadata": {},
     "output_type": "display_data"
    },
    {
     "data": {
      "text/html": [
       "<pre style=\"white-space:pre;overflow-x:auto;line-height:normal;font-family:Menlo,'DejaVu Sans Mono',consolas,'Courier New',monospace\"><span style=\"font-weight: bold\"> Trainable params: </span><span style=\"color: #00af00; text-decoration-color: #00af00\">5,729,187</span> (21.86 MB)\n",
       "</pre>\n"
      ],
      "text/plain": [
       "\u001b[1m Trainable params: \u001b[0m\u001b[38;5;34m5,729,187\u001b[0m (21.86 MB)\n"
      ]
     },
     "metadata": {},
     "output_type": "display_data"
    },
    {
     "data": {
      "text/html": [
       "<pre style=\"white-space:pre;overflow-x:auto;line-height:normal;font-family:Menlo,'DejaVu Sans Mono',consolas,'Courier New',monospace\"><span style=\"font-weight: bold\"> Non-trainable params: </span><span style=\"color: #00af00; text-decoration-color: #00af00\">0</span> (0.00 B)\n",
       "</pre>\n"
      ],
      "text/plain": [
       "\u001b[1m Non-trainable params: \u001b[0m\u001b[38;5;34m0\u001b[0m (0.00 B)\n"
      ]
     },
     "metadata": {},
     "output_type": "display_data"
    }
   ],
   "source": [
    "import numpy as np\n",
    "import tensorflow as tf\n",
    "from tensorflow.keras.models import Sequential\n",
    "from tensorflow.keras.layers import Dense, Embedding, LSTM, RepeatVector, TimeDistributed, Dropout\n",
    "\n",
    "np.random.seed(42)\n",
    "tf.random.set_seed(42)\n",
    "\n",
    "model = Sequential()\n",
    "model.add(Embedding(en_vocab_size, 256, input_shape=(en_max_len,), mask_zero=True))\n",
    "model.add(LSTM(256))\n",
    "model.add(RepeatVector(fr_max_len))\n",
    "model.add(LSTM(256, return_sequences=True))\n",
    "model.add(Dropout(0.4))\n",
    "model.add(TimeDistributed(Dense(fr_vocab_size, activation='softmax')))\n",
    "model.compile(loss='sparse_categorical_crossentropy', optimizer='adam', metrics=['accuracy'])\n",
    "model.summary(line_length=100)"
   ]
  },
  {
   "cell_type": "markdown",
   "id": "3c6c0c5e-0139-4326-a122-4e4e8eb1de76",
   "metadata": {},
   "source": [
    "## Training of the model\n",
    "Description: Here the dataset is split into 80:20 ratio in the training and test sets.\n",
    "Total 50 epochs have been considered with batch size set to 50.\n",
    "Note: If the accuracy fails to improve for five consecutive epochs, the training will be stopped. To implement this, an argument, called 'patience' is set to 5 in 'EarlyStopping' callback. "
   ]
  },
  {
   "cell_type": "code",
   "execution_count": 13,
   "id": "89e76ac1-cde1-4676-919f-47c5a67aa5ca",
   "metadata": {},
   "outputs": [
    {
     "name": "stdout",
     "output_type": "stream",
     "text": [
      "Epoch 1/50\n",
      "\u001b[1m800/800\u001b[0m \u001b[32m━━━━━━━━━━━━━━━━━━━━\u001b[0m\u001b[37m\u001b[0m \u001b[1m438s\u001b[0m 536ms/step - accuracy: 0.7126 - loss: 2.8795 - val_accuracy: 0.7351 - val_loss: 1.9106\n",
      "Epoch 2/50\n",
      "\u001b[1m800/800\u001b[0m \u001b[32m━━━━━━━━━━━━━━━━━━━━\u001b[0m\u001b[37m\u001b[0m \u001b[1m296s\u001b[0m 370ms/step - accuracy: 0.7380 - loss: 1.8920 - val_accuracy: 0.7502 - val_loss: 1.7795\n",
      "Epoch 3/50\n",
      "\u001b[1m800/800\u001b[0m \u001b[32m━━━━━━━━━━━━━━━━━━━━\u001b[0m\u001b[37m\u001b[0m \u001b[1m301s\u001b[0m 377ms/step - accuracy: 0.7515 - loss: 1.7510 - val_accuracy: 0.7700 - val_loss: 1.6326\n",
      "Epoch 4/50\n",
      "\u001b[1m800/800\u001b[0m \u001b[32m━━━━━━━━━━━━━━━━━━━━\u001b[0m\u001b[37m\u001b[0m \u001b[1m298s\u001b[0m 373ms/step - accuracy: 0.7709 - loss: 1.5899 - val_accuracy: 0.7836 - val_loss: 1.5033\n",
      "Epoch 5/50\n",
      "\u001b[1m800/800\u001b[0m \u001b[32m━━━━━━━━━━━━━━━━━━━━\u001b[0m\u001b[37m\u001b[0m \u001b[1m298s\u001b[0m 373ms/step - accuracy: 0.7831 - loss: 1.4507 - val_accuracy: 0.7917 - val_loss: 1.4097\n",
      "Epoch 6/50\n",
      "\u001b[1m800/800\u001b[0m \u001b[32m━━━━━━━━━━━━━━━━━━━━\u001b[0m\u001b[37m\u001b[0m \u001b[1m295s\u001b[0m 369ms/step - accuracy: 0.7911 - loss: 1.3395 - val_accuracy: 0.7978 - val_loss: 1.3382\n",
      "Epoch 7/50\n",
      "\u001b[1m800/800\u001b[0m \u001b[32m━━━━━━━━━━━━━━━━━━━━\u001b[0m\u001b[37m\u001b[0m \u001b[1m298s\u001b[0m 372ms/step - accuracy: 0.7981 - loss: 1.2426 - val_accuracy: 0.8028 - val_loss: 1.2801\n",
      "Epoch 8/50\n",
      "\u001b[1m800/800\u001b[0m \u001b[32m━━━━━━━━━━━━━━━━━━━━\u001b[0m\u001b[37m\u001b[0m \u001b[1m319s\u001b[0m 399ms/step - accuracy: 0.8039 - loss: 1.1553 - val_accuracy: 0.8070 - val_loss: 1.2269\n",
      "Epoch 9/50\n",
      "\u001b[1m800/800\u001b[0m \u001b[32m━━━━━━━━━━━━━━━━━━━━\u001b[0m\u001b[37m\u001b[0m \u001b[1m316s\u001b[0m 395ms/step - accuracy: 0.8091 - loss: 1.0739 - val_accuracy: 0.8112 - val_loss: 1.1804\n",
      "Epoch 10/50\n",
      "\u001b[1m800/800\u001b[0m \u001b[32m━━━━━━━━━━━━━━━━━━━━\u001b[0m\u001b[37m\u001b[0m \u001b[1m307s\u001b[0m 383ms/step - accuracy: 0.8145 - loss: 0.9950 - val_accuracy: 0.8142 - val_loss: 1.1435\n",
      "Epoch 11/50\n",
      "\u001b[1m800/800\u001b[0m \u001b[32m━━━━━━━━━━━━━━━━━━━━\u001b[0m\u001b[37m\u001b[0m \u001b[1m292s\u001b[0m 366ms/step - accuracy: 0.8194 - loss: 0.9240 - val_accuracy: 0.8171 - val_loss: 1.1100\n",
      "Epoch 12/50\n",
      "\u001b[1m800/800\u001b[0m \u001b[32m━━━━━━━━━━━━━━━━━━━━\u001b[0m\u001b[37m\u001b[0m \u001b[1m292s\u001b[0m 364ms/step - accuracy: 0.8250 - loss: 0.8590 - val_accuracy: 0.8200 - val_loss: 1.0827\n",
      "Epoch 13/50\n",
      "\u001b[1m800/800\u001b[0m \u001b[32m━━━━━━━━━━━━━━━━━━━━\u001b[0m\u001b[37m\u001b[0m \u001b[1m296s\u001b[0m 369ms/step - accuracy: 0.8308 - loss: 0.7975 - val_accuracy: 0.8219 - val_loss: 1.0620\n",
      "Epoch 14/50\n",
      "\u001b[1m800/800\u001b[0m \u001b[32m━━━━━━━━━━━━━━━━━━━━\u001b[0m\u001b[37m\u001b[0m \u001b[1m316s\u001b[0m 395ms/step - accuracy: 0.8362 - loss: 0.7455 - val_accuracy: 0.8243 - val_loss: 1.0429\n",
      "Epoch 15/50\n",
      "\u001b[1m800/800\u001b[0m \u001b[32m━━━━━━━━━━━━━━━━━━━━\u001b[0m\u001b[37m\u001b[0m \u001b[1m311s\u001b[0m 389ms/step - accuracy: 0.8415 - loss: 0.6973 - val_accuracy: 0.8259 - val_loss: 1.0299\n",
      "Epoch 16/50\n",
      "\u001b[1m800/800\u001b[0m \u001b[32m━━━━━━━━━━━━━━━━━━━━\u001b[0m\u001b[37m\u001b[0m \u001b[1m323s\u001b[0m 403ms/step - accuracy: 0.8466 - loss: 0.6564 - val_accuracy: 0.8269 - val_loss: 1.0177\n",
      "Epoch 17/50\n",
      "\u001b[1m800/800\u001b[0m \u001b[32m━━━━━━━━━━━━━━━━━━━━\u001b[0m\u001b[37m\u001b[0m \u001b[1m322s\u001b[0m 403ms/step - accuracy: 0.8524 - loss: 0.6197 - val_accuracy: 0.8290 - val_loss: 1.0121\n",
      "Epoch 18/50\n",
      "\u001b[1m800/800\u001b[0m \u001b[32m━━━━━━━━━━━━━━━━━━━━\u001b[0m\u001b[37m\u001b[0m \u001b[1m306s\u001b[0m 382ms/step - accuracy: 0.8578 - loss: 0.5869 - val_accuracy: 0.8301 - val_loss: 1.0087\n",
      "Epoch 19/50\n",
      "\u001b[1m800/800\u001b[0m \u001b[32m━━━━━━━━━━━━━━━━━━━━\u001b[0m\u001b[37m\u001b[0m \u001b[1m310s\u001b[0m 388ms/step - accuracy: 0.8618 - loss: 0.5613 - val_accuracy: 0.8316 - val_loss: 1.0061\n",
      "Epoch 20/50\n",
      "\u001b[1m800/800\u001b[0m \u001b[32m━━━━━━━━━━━━━━━━━━━━\u001b[0m\u001b[37m\u001b[0m \u001b[1m322s\u001b[0m 403ms/step - accuracy: 0.8668 - loss: 0.5330 - val_accuracy: 0.8314 - val_loss: 0.9979\n",
      "Epoch 21/50\n",
      "\u001b[1m800/800\u001b[0m \u001b[32m━━━━━━━━━━━━━━━━━━━━\u001b[0m\u001b[37m\u001b[0m \u001b[1m319s\u001b[0m 399ms/step - accuracy: 0.8698 - loss: 0.5127 - val_accuracy: 0.8314 - val_loss: 0.9969\n",
      "Epoch 22/50\n",
      "\u001b[1m800/800\u001b[0m \u001b[32m━━━━━━━━━━━━━━━━━━━━\u001b[0m\u001b[37m\u001b[0m \u001b[1m309s\u001b[0m 386ms/step - accuracy: 0.8737 - loss: 0.4908 - val_accuracy: 0.8321 - val_loss: 0.9967\n",
      "Epoch 23/50\n",
      "\u001b[1m800/800\u001b[0m \u001b[32m━━━━━━━━━━━━━━━━━━━━\u001b[0m\u001b[37m\u001b[0m \u001b[1m298s\u001b[0m 372ms/step - accuracy: 0.8764 - loss: 0.4743 - val_accuracy: 0.8312 - val_loss: 0.9969\n",
      "Epoch 24/50\n",
      "\u001b[1m800/800\u001b[0m \u001b[32m━━━━━━━━━━━━━━━━━━━━\u001b[0m\u001b[37m\u001b[0m \u001b[1m302s\u001b[0m 378ms/step - accuracy: 0.8797 - loss: 0.4580 - val_accuracy: 0.8338 - val_loss: 0.9962\n",
      "Epoch 25/50\n",
      "\u001b[1m800/800\u001b[0m \u001b[32m━━━━━━━━━━━━━━━━━━━━\u001b[0m\u001b[37m\u001b[0m \u001b[1m296s\u001b[0m 370ms/step - accuracy: 0.8824 - loss: 0.4434 - val_accuracy: 0.8349 - val_loss: 1.0088\n",
      "Epoch 26/50\n",
      "\u001b[1m800/800\u001b[0m \u001b[32m━━━━━━━━━━━━━━━━━━━━\u001b[0m\u001b[37m\u001b[0m \u001b[1m297s\u001b[0m 372ms/step - accuracy: 0.8844 - loss: 0.4303 - val_accuracy: 0.8342 - val_loss: 1.0202\n",
      "Epoch 27/50\n",
      "\u001b[1m800/800\u001b[0m \u001b[32m━━━━━━━━━━━━━━━━━━━━\u001b[0m\u001b[37m\u001b[0m \u001b[1m301s\u001b[0m 376ms/step - accuracy: 0.8864 - loss: 0.4188 - val_accuracy: 0.8338 - val_loss: 1.0357\n",
      "Epoch 28/50\n",
      "\u001b[1m800/800\u001b[0m \u001b[32m━━━━━━━━━━━━━━━━━━━━\u001b[0m\u001b[37m\u001b[0m \u001b[1m298s\u001b[0m 372ms/step - accuracy: 0.8894 - loss: 0.4068 - val_accuracy: 0.8342 - val_loss: 1.0404\n",
      "Epoch 29/50\n",
      "\u001b[1m800/800\u001b[0m \u001b[32m━━━━━━━━━━━━━━━━━━━━\u001b[0m\u001b[37m\u001b[0m \u001b[1m293s\u001b[0m 366ms/step - accuracy: 0.8909 - loss: 0.3954 - val_accuracy: 0.8354 - val_loss: 1.0226\n",
      "Epoch 30/50\n",
      "\u001b[1m800/800\u001b[0m \u001b[32m━━━━━━━━━━━━━━━━━━━━\u001b[0m\u001b[37m\u001b[0m \u001b[1m290s\u001b[0m 363ms/step - accuracy: 0.8933 - loss: 0.3857 - val_accuracy: 0.8350 - val_loss: 1.0261\n",
      "Epoch 31/50\n",
      "\u001b[1m800/800\u001b[0m \u001b[32m━━━━━━━━━━━━━━━━━━━━\u001b[0m\u001b[37m\u001b[0m \u001b[1m289s\u001b[0m 362ms/step - accuracy: 0.8958 - loss: 0.3738 - val_accuracy: 0.8361 - val_loss: 1.0137\n",
      "Epoch 32/50\n",
      "\u001b[1m800/800\u001b[0m \u001b[32m━━━━━━━━━━━━━━━━━━━━\u001b[0m\u001b[37m\u001b[0m \u001b[1m299s\u001b[0m 374ms/step - accuracy: 0.8980 - loss: 0.3654 - val_accuracy: 0.8359 - val_loss: 1.0128\n",
      "Epoch 33/50\n",
      "\u001b[1m800/800\u001b[0m \u001b[32m━━━━━━━━━━━━━━━━━━━━\u001b[0m\u001b[37m\u001b[0m \u001b[1m293s\u001b[0m 367ms/step - accuracy: 0.8992 - loss: 0.3551 - val_accuracy: 0.8356 - val_loss: 1.0124\n",
      "Epoch 34/50\n",
      "\u001b[1m800/800\u001b[0m \u001b[32m━━━━━━━━━━━━━━━━━━━━\u001b[0m\u001b[37m\u001b[0m \u001b[1m310s\u001b[0m 387ms/step - accuracy: 0.9008 - loss: 0.3468 - val_accuracy: 0.8358 - val_loss: 1.0208\n",
      "Epoch 35/50\n",
      "\u001b[1m800/800\u001b[0m \u001b[32m━━━━━━━━━━━━━━━━━━━━\u001b[0m\u001b[37m\u001b[0m \u001b[1m316s\u001b[0m 395ms/step - accuracy: 0.9031 - loss: 0.3383 - val_accuracy: 0.8359 - val_loss: 1.0234\n",
      "Epoch 36/50\n",
      "\u001b[1m800/800\u001b[0m \u001b[32m━━━━━━━━━━━━━━━━━━━━\u001b[0m\u001b[37m\u001b[0m \u001b[1m324s\u001b[0m 405ms/step - accuracy: 0.9046 - loss: 0.3309 - val_accuracy: 0.8358 - val_loss: 1.0264\n"
     ]
    }
   ],
   "source": [
    "from tensorflow.keras.callbacks import EarlyStopping\n",
    "\n",
    "callback = EarlyStopping(monitor='val_accuracy', patience=5, restore_best_weights=True)\n",
    "hist = model.fit(en_x, fr_y, epochs=50, batch_size=50, validation_split=0.2, callbacks=[callback])"
   ]
  },
  {
   "cell_type": "markdown",
   "id": "631ff7be-c933-4e0b-804a-fbc52c9feb4b",
   "metadata": {},
   "source": [
    "## Training and Validation Accuracy Plot\n",
    "Description: x-axis- Number of Epochs, y-axis- Accuracy"
   ]
  },
  {
   "cell_type": "code",
   "execution_count": 15,
   "id": "4167926b-d757-4103-bb4d-cc6a79e80038",
   "metadata": {},
   "outputs": [
    {
     "data": {
      "image/png": "[encoded data removed]",
      "text/plain": [
       "<Figure size 640x480 with 1 Axes>"
      ]
     },
     "metadata": {},
     "output_type": "display_data"
    }
   ],
   "source": [
    "import seaborn as sns\n",
    "import matplotlib.pyplot as plt\n",
    "from keras.callbacks import History , ModelCheckpoint\n",
    "%matplotlib inline\n",
    "sns.set()\n",
    "\n",
    "acc = hist.history['accuracy']\n",
    "val = hist.history['val_accuracy']\n",
    "epochs = range(1, len(acc) + 1)\n",
    "\n",
    "plt.plot(epochs, acc, '-', label='Training accuracy')\n",
    "plt.plot(epochs, val, ':', label='Validation accuracy')\n",
    "plt.title('Training and Validation Accuracy')\n",
    "plt.xlabel('Epoch')\n",
    "plt.ylabel('Accuracy')\n",
    "plt.legend(loc='lower right')\n",
    "plt.plot()\n",
    "plt.show()"
   ]
  },
  {
   "cell_type": "markdown",
   "id": "58f3b56f-711b-481f-a71d-afa082b0b2a0",
   "metadata": {},
   "source": [
    "## Validating the model\n",
    "Brief Description: Some reserved phrases are used to validate the model"
   ]
  },
  {
   "cell_type": "code",
   "execution_count": 17,
   "id": "c727c8a9-f4e0-4924-996b-6fc20a880252",
   "metadata": {},
   "outputs": [
    {
     "name": "stdout",
     "output_type": "stream",
     "text": [
      "its fall now => cest suis desormais\n",
      "im losing => je suis\n",
      "it was quite funny => ce etait assez amusant\n",
      "thats not unusual => ce nest pas inhabituel\n",
      "i think ill do that => je pense que je faire\n",
      "tom looks different => tom a lair different\n",
      "its worth a try => ca vaut le defaut\n",
      "fortune smiled on him => la avec a\n",
      "lets hit the road => cassonsnous\n",
      "i love winning => jadore lemporter\n"
     ]
    }
   ],
   "source": [
    "def translate_text(text, model, en_tokenizer, fr_tokenizer, en_max_len):\n",
    "    sequence = en_tokenizer.texts_to_sequences([text])\n",
    "    padded_sequence = pad_sequences(sequence, maxlen=en_max_len, padding='post')\n",
    "    prediction = model.predict(padded_sequence, verbose=0)[0]\n",
    "    indexes = [np.argmax(idx) for idx in prediction]\n",
    "    return fr_tokenizer.sequences_to_texts([indexes])[0]\n",
    "\n",
    "texts = en[40000:40010].values\n",
    "\n",
    "for text in texts:\n",
    "    translated = translate_text(text, model, en_tokenizer, fr_tokenizer, en_max_len)\n",
    "    print(f'{text} => {translated}')"
   ]
  },
  {
   "cell_type": "markdown",
   "id": "7e6ed6b6-44f5-4954-b524-fe8a4ea3e5b9",
   "metadata": {},
   "source": [
    "## Test the model: Translation from English to French\n",
    "Note: The model translation task can be tested by putting the sentence (or string of words) within the single inverted comma. Here 'hello world' phrase is shown as an example"
   ]
  },
  {
   "cell_type": "code",
   "execution_count": 19,
   "id": "7497aae8-361c-497b-a38f-a3eb4a653d9e",
   "metadata": {},
   "outputs": [
    {
     "data": {
      "text/plain": [
       "'salut tout monde'"
      ]
     },
     "execution_count": 19,
     "metadata": {},
     "output_type": "execute_result"
    }
   ],
   "source": [
    "translate_text('hello world', model, en_tokenizer, fr_tokenizer, en_max_len)"
   ]
  },
  {
   "cell_type": "code",
   "execution_count": null,
   "id": "575d1fdf-a239-4592-9c16-303ee6868eca",
   "metadata": {},
   "outputs": [],
   "source": []
  }
 ],
 "metadata": {
  "kernelspec": {
   "display_name": "Python 3 (ipykernel)",
   "language": "python",
   "name": "python3"
  },
  "language_info": {
   "codemirror_mode": {
    "name": "ipython",
    "version": 3
   },
   "file_extension": ".py",
   "mimetype": "text/x-python",
   "name": "python",
   "nbconvert_exporter": "python",
   "pygments_lexer": "ipython3",
   "version": "3.12.3"
  }
 },
 "nbformat": 4,
 "nbformat_minor": 5
}
